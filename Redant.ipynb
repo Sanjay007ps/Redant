{
  "nbformat": 4,
  "nbformat_minor": 0,
  "metadata": {
    "colab": {
      "name": "Redant.ipynb",
      "provenance": []
    },
    "kernelspec": {
      "name": "python3",
      "display_name": "Python 3"
    },
    "language_info": {
      "name": "python"
    }
  },
  "cells": [
    {
      "cell_type": "code",
      "metadata": {
        "colab": {
          "base_uri": "https://localhost:8080/"
        },
        "id": "zHEPtGjcgj1U",
        "outputId": "24f20625-2c1f-420f-a663-84ede4395caa"
      },
      "source": [
        "def mag(a,st):\n",
        "  found=[]\n",
        "  missing=[]\n",
        "  count=0\n",
        "  for x in range(len(a)):\n",
        "    for i in range(len(st)):    \n",
        "      if (a[x]==st[i]):\n",
        "        found.append(st[i])\n",
        "        count=count+1\n",
        "\n",
        "  for i in range(len(st)):\n",
        "    if st[i] not in found:\n",
        "      missing.append(st[i])\n",
        "\n",
        "  if count==len(st):\n",
        "    print (\"Found Match\")\n",
        "    print (\"The kidnnaper could have written the note from this Magazine\")\n",
        "  else:\n",
        "    print (\"Match not found\")\n",
        "    print (\"Number of words that does not exsit in Magazine:\",len(missing))\n",
        "    print (\"The missing words are:\",missing)\n",
        "\n",
        "print(\"Use space to seperate the words and press enter finally to confirm the list\")\n",
        "a=input(\"Enter all the words in the Magazine:\\n\")\n",
        "st=input(\"Enter the words from the ransom notes:\\n\")\n",
        "a = a.lower()\n",
        "st = st.lower()\n",
        "a = a.split()\n",
        "st = st.split()\n",
        "mag(a,st)"
      ],
      "execution_count": 57,
      "outputs": [
        {
          "output_type": "stream",
          "text": [
            "Use space to seperate the words and press enter finally to confirm the list\n",
            "Enter all the words in the Magazine:\n",
            "a. Write a program to take user entries capturing name, entry time, reason of visit, whom to meet, exit time b. From the admin side, Manoj should be able to see who had the maximum visitors, what was the purpose for which most people came. These two are simple calculations. c. Manoj also needs to know for Covid reasons, at what time of the day was the office occupied maximum. i.e., What time period was the busiest meaning maximum number of people inside the office. d. The trick is Manoj will decide the time period’s duration. i.e., he may want to know which 30 minutes or 60 minutes or 15 minutes or 10 minutes did the company have the maximum number of people inside. He should be able to select the time duration.  3. Cathy works as an editor in a magazine. She is responsible for the games and puzzles section in the magazine. But unfortunately, she doesn’t have time to go about creating a puzzle on her own every month. Help her by creating a sudoku validator. a. It will be a standard 9 X 9 sudoku board b. Each row must contain the digits 1-9 without repetition. c. Each column must contain the digits 1-9 without repetition. d. Each of the nine 3 x 3 sub-boxes of the grid must contain the digits 1-9 without repetition. e. Provide an interface where there will be an empty board. f. Cathy can type in the squares that she wants with numbers that she wants to. g. When she clicks on validate, the solution should tell her whether the partially entered board by her is a valid sudoku board or not  4. Viji heads the forensic investigation department of the Chennai police. Recently there has been a big increase in the number of kidnappings. The kidnapper keeps leaving ransom notes. These ransom notes are all words cut from different pages. Viji suspects that the kidnapper is cutting all of these from a single magazine only. If she can find out which magazine the kidnapper is using, it might help her to catch the criminal. Help her. a. Create a system where Viji will be able to type or copy and paste a large amount of text. These would be all the words that appear in that magazine. b. Viji will then put in the words that are there in the ransom note also. c. The system should tell whether the kidnapper could have written that note from the initial text input i.e., the magazine. d. If the words are not present or not sufficient, the system should be able to point out the total number of words that do not exist in the first input comparing to the second input and also list out the missing words.  5. Murshad hetha is a stock market investor. He was doing amazingly well in the stock market before suddenly he started making losses. Somehow, he was not able to  predict which stock to buy and which stock to sell. His mind had stopped working. Help him by creating an application that will train him. a. The user will give input of a stock name and feed in multiple values in pair. – time of the day and stock price. For e.g., inputs will be like the following. Remember the inputs can be as many as the user wants. i. BBCL ii. 9:30 am Rs. 234 iii. 9:43 am Rs. 289 iv. 10:55 am Rs. 245 v. 11:04 am Rs. 330 vi. 12: 19 pm Rs. 260 vii. 3:30 pm Rs. 212 b. The system has to calculate at what time should Murshad buy the stock and at what time he should have sold it to make maximum profit. c. Remember, Murshad can only sell if he has bought enough to sell. d. Simple rule of stock market trading is buying when a stock value is low and sell when it is high. The difference is the profit. e. Help Murshad decide what time he should have bought the stock and what time he should have sold to get the maximum profit. f. Remember he can buy and sell multiple times during the day. But he can only sell when he has already had that quantity of stock with him. g. And yes, it is not unlimited budget. He has only his last Rs. 10,000 with him. Help!\n",
            "Enter the words from the ransom notes:\n",
            "Qfvdln kljnsdfbv;'dvlkjdb svn;sb\n",
            "Match not found\n",
            "Number of words that does not exsit in Magazine: 3\n",
            "The missing words are: ['qfvdln', \"kljnsdfbv;'dvlkjdb\", 'svn;sb']\n"
          ],
          "name": "stdout"
        }
      ]
    }
  ]
}